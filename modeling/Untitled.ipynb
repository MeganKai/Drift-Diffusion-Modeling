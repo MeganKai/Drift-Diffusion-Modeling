{
 "cells": [
  {
   "cell_type": "code",
   "execution_count": null,
   "metadata": {},
   "outputs": [
    {
     "name": "stderr",
     "output_type": "stream",
     "text": [
      "/home/megan/yes/lib/python3.6/site-packages/IPython/parallel.py:13: ShimWarning: The `IPython.parallel` package has been deprecated since IPython 4.0. You should import from ipyparallel instead.\n",
      "  \"You should import from ipyparallel instead.\", ShimWarning)\n",
      "/home/megan/yes/lib/python3.6/site-packages/scipy/optimize/optimize.py:1927: RuntimeWarning: invalid value encountered in double_scalars\n",
      "  tmp2 = (x - v) * (fx - fw)\n"
     ]
    },
    {
     "name": "stdout",
     "output_type": "stream",
     "text": [
      " [-----------------93%---------------   ] 1874 of 2000 complete in 678.5 sec"
     ]
    }
   ],
   "source": [
    "import pandas as pd\n",
    "import hddm\n",
    "import matplotlib.pyplot as plt\n",
    "\n",
    "def main():\n",
    "\n",
    "    path = \"/home/megan/Desktop/Drift-Diffusion/data\"\n",
    " \n",
    "    data = hddm.load_csv(\"/home/megan/Desktop/Drift-Diffusion/data/diffusion-feb.csv\")\n",
    "\n",
    "    \n",
    "    m = hddm.HDDM(data,p_outlier=0.05)\n",
    "    m.find_starting_values()\n",
    "    m.sample(2000,burn=20)\n",
    "\n",
    "\n",
    "    fig = plt.figure()\n",
    "    ax = fig.add_subplot(111,xlabel='RT',ylabel='count',title='RT Distributions')\n",
    "    for i,subj_data in data.groupby('subj_idx'):\n",
    "        subj_data.rt.hist(bins=20,histtype='step',ax=ax)\n",
    "    plt.savefig('hddm_demo_fig.pdf')\n",
    "    models = []\n",
    "\n",
    "    stats = m.gen_stats()\n",
    "    stats[stats.index.isin(['a','a_std','a_subj.0','a_subj.1'])]\n",
    "    m.plot_posteriors(['a','t','v','a_std'])\n",
    "    \n",
    "\n",
    "\n",
    "main()"
   ]
  },
  {
   "cell_type": "code",
   "execution_count": null,
   "metadata": {
    "collapsed": true
   },
   "outputs": [],
   "source": []
  }
 ],
 "metadata": {
  "kernelspec": {
   "display_name": "Python 3",
   "language": "python",
   "name": "python3"
  },
  "language_info": {
   "codemirror_mode": {
    "name": "ipython",
    "version": 3
   },
   "file_extension": ".py",
   "mimetype": "text/x-python",
   "name": "python",
   "nbconvert_exporter": "python",
   "pygments_lexer": "ipython3",
   "version": "3.6.8"
  }
 },
 "nbformat": 4,
 "nbformat_minor": 2
}
