{
 "cells": [
  {
   "cell_type": "code",
   "execution_count": 1,
   "metadata": {},
   "outputs": [
    {
     "name": "stderr",
     "output_type": "stream",
     "text": [
      "/home/megan/yes/lib/python3.6/site-packages/IPython/parallel.py:13: ShimWarning: The `IPython.parallel` package has been deprecated since IPython 4.0. You should import from ipyparallel instead.\n",
      "  \"You should import from ipyparallel instead.\", ShimWarning)\n"
     ]
    },
    {
     "name": "stdout",
     "output_type": "stream",
     "text": [
      "   subj_idx   date  trialnum  stim  response      rt\n",
      "0       278  02-05       1.0   2.0         1    3.46\n",
      "1       278  02-05       2.0   2.0         1    1.11\n",
      "2       278  02-05       5.0   2.0         1   56.16\n",
      "3       278  02-05      12.0   1.0         0  256.03\n",
      "4       278  02-05      15.0   2.0         1  244.79\n",
      "5       278  02-05      31.0   2.0         0  475.04\n",
      "6       278  02-05      40.0   2.0         1  627.19\n",
      "7       278  02-05      45.0   2.0         0  336.96\n",
      "8       278  02-05      47.0   2.0         1  166.43\n",
      "9       278  02-06       2.0   2.0         0   41.07\n"
     ]
    },
    {
     "name": "stderr",
     "output_type": "stream",
     "text": [
      "/home/megan/yes/lib/python3.6/site-packages/scipy/optimize/optimize.py:1927: RuntimeWarning: invalid value encountered in double_scalars\n",
      "  tmp2 = (x - v) * (fx - fw)\n"
     ]
    },
    {
     "name": "stdout",
     "output_type": "stream",
     "text": [
      " [-----------------100%-----------------] 200 of 200 complete in 114.8 secCould not generate output statistics for t_subj.281\n",
      "Could not generate output statistics for a\n",
      "Could not generate output statistics for a_subj.286\n",
      "Could not generate output statistics for t_subj.286\n",
      "Could not generate output statistics for v_subj.283\n",
      "Could not generate output statistics for t_subj.279\n",
      "Could not generate output statistics for a_subj.288\n",
      "Could not generate output statistics for a_subj.279\n",
      "Could not generate output statistics for a_subj.283\n",
      "Could not generate output statistics for t_subj.287\n",
      "Could not generate output statistics for t_subj.292\n",
      "Could not generate output statistics for a_subj.281\n",
      "Could not generate output statistics for a_subj.282\n",
      "Could not generate output statistics for v_subj.288\n",
      "Could not generate output statistics for v_subj.280\n",
      "Could not generate output statistics for a_subj.284\n",
      "Could not generate output statistics for v_subj.285\n",
      "Could not generate output statistics for v_subj.284\n",
      "Could not generate output statistics for a_subj.292\n",
      "Could not generate output statistics for v_std\n",
      "Could not generate output statistics for a_std\n",
      "Could not generate output statistics for v_subj.292\n",
      "Could not generate output statistics for t_subj.280\n",
      "Could not generate output statistics for t\n",
      "Could not generate output statistics for v\n",
      "Could not generate output statistics for a_subj.293\n",
      "Could not generate output statistics for t_subj.282\n",
      "Could not generate output statistics for t_subj.288\n",
      "Could not generate output statistics for a_subj.285\n",
      "Could not generate output statistics for v_subj.289\n",
      "Could not generate output statistics for a_subj.280\n",
      "Could not generate output statistics for t_subj.283\n",
      "Could not generate output statistics for v_subj.293\n",
      "Could not generate output statistics for v_subj.279\n",
      "Could not generate output statistics for a_subj.287\n",
      "Could not generate output statistics for a_subj.278\n",
      "Could not generate output statistics for t_std\n",
      "Could not generate output statistics for t_subj.278\n",
      "Could not generate output statistics for v_subj.286\n",
      "Could not generate output statistics for t_subj.293\n",
      "Could not generate output statistics for v_subj.278\n",
      "Could not generate output statistics for v_subj.281\n",
      "Could not generate output statistics for t_subj.284\n",
      "Could not generate output statistics for v_subj.282\n",
      "Could not generate output statistics for v_subj.287\n",
      "Could not generate output statistics for t_subj.289\n",
      "Could not generate output statistics for t_subj.285\n",
      "Could not generate output statistics for a_subj.289\n"
     ]
    },
    {
     "ename": "TypeError",
     "evalue": "'NoneType' object is not subscriptable",
     "output_type": "error",
     "traceback": [
      "\u001b[0;31m---------------------------------------------------------------------------\u001b[0m",
      "\u001b[0;31mTypeError\u001b[0m                                 Traceback (most recent call last)",
      "\u001b[0;32m<ipython-input-1-b59caac33e25>\u001b[0m in \u001b[0;36m<module>\u001b[0;34m()\u001b[0m\n\u001b[1;32m     28\u001b[0m \u001b[0;34m\u001b[0m\u001b[0m\n\u001b[1;32m     29\u001b[0m \u001b[0;34m\u001b[0m\u001b[0m\n\u001b[0;32m---> 30\u001b[0;31m \u001b[0mmain\u001b[0m\u001b[0;34m(\u001b[0m\u001b[0;34m)\u001b[0m\u001b[0;34m\u001b[0m\u001b[0;34m\u001b[0m\u001b[0m\n\u001b[0m",
      "\u001b[0;32m<ipython-input-1-b59caac33e25>\u001b[0m in \u001b[0;36mmain\u001b[0;34m()\u001b[0m\n\u001b[1;32m     19\u001b[0m     \u001b[0mm\u001b[0m \u001b[0;34m=\u001b[0m \u001b[0mhddm\u001b[0m\u001b[0;34m.\u001b[0m\u001b[0mHDDM\u001b[0m\u001b[0;34m(\u001b[0m\u001b[0mdata\u001b[0m\u001b[0;34m,\u001b[0m\u001b[0mp_outlier\u001b[0m\u001b[0;34m=\u001b[0m\u001b[0;36m0.05\u001b[0m\u001b[0;34m)\u001b[0m\u001b[0;34m\u001b[0m\u001b[0;34m\u001b[0m\u001b[0m\n\u001b[1;32m     20\u001b[0m     \u001b[0mm\u001b[0m\u001b[0;34m.\u001b[0m\u001b[0mfind_starting_values\u001b[0m\u001b[0;34m(\u001b[0m\u001b[0;34m)\u001b[0m\u001b[0;34m\u001b[0m\u001b[0;34m\u001b[0m\u001b[0m\n\u001b[0;32m---> 21\u001b[0;31m     \u001b[0mm\u001b[0m\u001b[0;34m.\u001b[0m\u001b[0msample\u001b[0m\u001b[0;34m(\u001b[0m\u001b[0;36m200\u001b[0m\u001b[0;34m,\u001b[0m\u001b[0mburn\u001b[0m\u001b[0;34m=\u001b[0m\u001b[0;36m2\u001b[0m\u001b[0;34m)\u001b[0m\u001b[0;34m\u001b[0m\u001b[0;34m\u001b[0m\u001b[0m\n\u001b[0m\u001b[1;32m     22\u001b[0m \u001b[0;34m\u001b[0m\u001b[0m\n\u001b[1;32m     23\u001b[0m     \u001b[0mstats\u001b[0m \u001b[0;34m=\u001b[0m \u001b[0mm\u001b[0m\u001b[0;34m.\u001b[0m\u001b[0mgen_stats\u001b[0m\u001b[0;34m(\u001b[0m\u001b[0;34m)\u001b[0m\u001b[0;34m\u001b[0m\u001b[0;34m\u001b[0m\u001b[0m\n",
      "\u001b[0;32m~/yes/lib/python3.6/site-packages/kabuki/hierarchical.py\u001b[0m in \u001b[0;36msample\u001b[0;34m(self, *args, **kwargs)\u001b[0m\n\u001b[1;32m    653\u001b[0m         \u001b[0mself\u001b[0m\u001b[0;34m.\u001b[0m\u001b[0msampled\u001b[0m \u001b[0;34m=\u001b[0m \u001b[0;32mTrue\u001b[0m\u001b[0;34m\u001b[0m\u001b[0;34m\u001b[0m\u001b[0m\n\u001b[1;32m    654\u001b[0m \u001b[0;34m\u001b[0m\u001b[0m\n\u001b[0;32m--> 655\u001b[0;31m         \u001b[0mself\u001b[0m\u001b[0;34m.\u001b[0m\u001b[0mgen_stats\u001b[0m\u001b[0;34m(\u001b[0m\u001b[0;34m)\u001b[0m\u001b[0;34m\u001b[0m\u001b[0;34m\u001b[0m\u001b[0m\n\u001b[0m\u001b[1;32m    656\u001b[0m         \u001b[0;32mreturn\u001b[0m \u001b[0mself\u001b[0m\u001b[0;34m.\u001b[0m\u001b[0mmc\u001b[0m\u001b[0;34m\u001b[0m\u001b[0;34m\u001b[0m\u001b[0m\n\u001b[1;32m    657\u001b[0m \u001b[0;34m\u001b[0m\u001b[0m\n",
      "\u001b[0;32m~/yes/lib/python3.6/site-packages/kabuki/hierarchical.py\u001b[0m in \u001b[0;36mgen_stats\u001b[0;34m(self, fname, print_hidden, **kwargs)\u001b[0m\n\u001b[1;32m    730\u001b[0m             \u001b[0mprint_hidden\u001b[0m \u001b[0;34m<\u001b[0m\u001b[0mbool\u001b[0m\u001b[0;34m>\u001b[0m  \u001b[0;34m-\u001b[0m \u001b[0mprint\u001b[0m \u001b[0mstatistics\u001b[0m \u001b[0mof\u001b[0m \u001b[0mhidden\u001b[0m \u001b[0mnodes\u001b[0m\u001b[0;34m\u001b[0m\u001b[0;34m\u001b[0m\u001b[0m\n\u001b[1;32m    731\u001b[0m         \"\"\"\n\u001b[0;32m--> 732\u001b[0;31m         \u001b[0mself\u001b[0m\u001b[0;34m.\u001b[0m\u001b[0mappend_stats_to_nodes_db\u001b[0m\u001b[0;34m(\u001b[0m\u001b[0;34m)\u001b[0m\u001b[0;34m\u001b[0m\u001b[0;34m\u001b[0m\u001b[0m\n\u001b[0m\u001b[1;32m    733\u001b[0m \u001b[0;34m\u001b[0m\u001b[0m\n\u001b[1;32m    734\u001b[0m         \u001b[0msliced_db\u001b[0m \u001b[0;34m=\u001b[0m \u001b[0mself\u001b[0m\u001b[0;34m.\u001b[0m\u001b[0mnodes_db\u001b[0m\u001b[0;34m.\u001b[0m\u001b[0mcopy\u001b[0m\u001b[0;34m(\u001b[0m\u001b[0;34m)\u001b[0m\u001b[0;34m\u001b[0m\u001b[0;34m\u001b[0m\u001b[0m\n",
      "\u001b[0;32m~/yes/lib/python3.6/site-packages/kabuki/hierarchical.py\u001b[0m in \u001b[0;36mappend_stats_to_nodes_db\u001b[0;34m(self, *args, **kwargs)\u001b[0m\n\u001b[1;32m    782\u001b[0m             \u001b[0;32mif\u001b[0m \u001b[0mself\u001b[0m\u001b[0;34m.\u001b[0m\u001b[0mnodes_db\u001b[0m\u001b[0;34m.\u001b[0m\u001b[0mloc\u001b[0m\u001b[0;34m[\u001b[0m\u001b[0mname\u001b[0m\u001b[0;34m,\u001b[0m \u001b[0;34m'hidden'\u001b[0m\u001b[0;34m]\u001b[0m\u001b[0;34m:\u001b[0m\u001b[0;34m\u001b[0m\u001b[0;34m\u001b[0m\u001b[0m\n\u001b[1;32m    783\u001b[0m                 \u001b[0;32mcontinue\u001b[0m\u001b[0;34m\u001b[0m\u001b[0;34m\u001b[0m\u001b[0m\n\u001b[0;32m--> 784\u001b[0;31m             \u001b[0mself\u001b[0m\u001b[0;34m.\u001b[0m\u001b[0mnodes_db\u001b[0m\u001b[0;34m.\u001b[0m\u001b[0mloc\u001b[0m\u001b[0;34m[\u001b[0m\u001b[0mname\u001b[0m\u001b[0;34m,\u001b[0m \u001b[0;34m'mean'\u001b[0m\u001b[0;34m]\u001b[0m   \u001b[0;34m=\u001b[0m \u001b[0mi_stats\u001b[0m\u001b[0;34m[\u001b[0m\u001b[0;34m'mean'\u001b[0m\u001b[0;34m]\u001b[0m\u001b[0;34m\u001b[0m\u001b[0;34m\u001b[0m\u001b[0m\n\u001b[0m\u001b[1;32m    785\u001b[0m             \u001b[0mself\u001b[0m\u001b[0;34m.\u001b[0m\u001b[0mnodes_db\u001b[0m\u001b[0;34m.\u001b[0m\u001b[0mloc\u001b[0m\u001b[0;34m[\u001b[0m\u001b[0mname\u001b[0m\u001b[0;34m,\u001b[0m \u001b[0;34m'std'\u001b[0m\u001b[0;34m]\u001b[0m    \u001b[0;34m=\u001b[0m \u001b[0mi_stats\u001b[0m\u001b[0;34m[\u001b[0m\u001b[0;34m'standard deviation'\u001b[0m\u001b[0;34m]\u001b[0m\u001b[0;34m\u001b[0m\u001b[0;34m\u001b[0m\u001b[0m\n\u001b[1;32m    786\u001b[0m             \u001b[0mself\u001b[0m\u001b[0;34m.\u001b[0m\u001b[0mnodes_db\u001b[0m\u001b[0;34m.\u001b[0m\u001b[0mloc\u001b[0m\u001b[0;34m[\u001b[0m\u001b[0mname\u001b[0m\u001b[0;34m,\u001b[0m \u001b[0;34m'2.5q'\u001b[0m\u001b[0;34m]\u001b[0m   \u001b[0;34m=\u001b[0m \u001b[0mi_stats\u001b[0m\u001b[0;34m[\u001b[0m\u001b[0;34m'quantiles'\u001b[0m\u001b[0;34m]\u001b[0m\u001b[0;34m[\u001b[0m\u001b[0;36m2.5\u001b[0m\u001b[0;34m]\u001b[0m\u001b[0;34m\u001b[0m\u001b[0;34m\u001b[0m\u001b[0m\n",
      "\u001b[0;31mTypeError\u001b[0m: 'NoneType' object is not subscriptable"
     ]
    }
   ],
   "source": [
    "import pandas as pd\n",
    "import hddm\n",
    "import matplotlib.pyplot as plt\n",
    "\n",
    "def main():\n",
    "\n",
    "    path = \"/home/megan/Desktop/Drift-Diffusion/data\"\n",
    " \n",
    "    data = hddm.load_csv(\"/home/megan/Desktop/Drift-Diffusion/data/diffusion-feb.csv\")\n",
    "\n",
    "    \n",
    "    m = hddm.HDDM(data,p_outlier=0.05)\n",
    "    m.find_starting_values()\n",
    "    m.sample(2000,burn=20)\n",
    "\n",
    "\n",
    "    fig = plt.figure()\n",
    "    ax = fig.add_subplot(111,xlabel='RT',ylabel='count',title='RT Distributions')\n",
    "    for i,subj_data in data.groupby('subj_idx'):\n",
    "        subj_data.rt.hist(bins=20,histtype='step',ax=ax)\n",
    "    plt.savefig('hddm_demo_fig.pdf')\n",
    "    models = []\n",
    "\n",
    "    stats = m.gen_stats()\n",
    "    stats[stats.index.isin(['a','a_std','a_subj.0','a_subj.1'])]\n",
    "    m.plot_posteriors(['a','t','v','a_std'])\n",
    "    \n",
    "\n",
    "\n",
    "main()"
   ]
  },
  {
   "cell_type": "code",
   "execution_count": null,
   "metadata": {
    "collapsed": true
   },
   "outputs": [],
   "source": []
  }
 ],
 "metadata": {
  "kernelspec": {
   "display_name": "Python 3",
   "language": "python",
   "name": "python3"
  },
  "language_info": {
   "codemirror_mode": {
    "name": "ipython",
    "version": 3
   },
   "file_extension": ".py",
   "mimetype": "text/x-python",
   "name": "python",
   "nbconvert_exporter": "python",
   "pygments_lexer": "ipython3",
   "version": "3.6.8"
  }
 },
 "nbformat": 4,
 "nbformat_minor": 2
}
